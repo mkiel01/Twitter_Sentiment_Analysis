{
  "cells": [
    {
      "cell_type": "code",
      "execution_count": 1,
      "metadata": {
        "colab": {
          "base_uri": "https://localhost:8080/"
        },
        "id": "IaH96i5hvGJ3",
        "outputId": "4b8ff08a-a213-4bf7-dae5-0517e4c73ffc"
      },
      "outputs": [],
      "source": [
        "# from google.colab import drive\n",
        "import pandas as pd\n",
        "# drive.mount('/content/drive')\n",
        "\n",
        "import os\n",
        "twitter = pd.read_csv(\"/Users/michalkielkowski/Desktop/infa-all/magisterka/eksploracja_danych/Twitter_Sentiment_Analysis/data/twitter_outer_sentiment(1).csv\", encoding='ISO-8859-1')"
      ]
    },
    {
      "cell_type": "code",
      "execution_count": null,
      "metadata": {
        "id": "l6KaY7mG36TC"
      },
      "outputs": [],
      "source": []
    },
    {
      "cell_type": "code",
      "execution_count": 2,
      "metadata": {
        "id": "M4GgmDre4Rgq"
      },
      "outputs": [],
      "source": [
        "import matplotlib.pyplot as plt\n",
        "import seaborn as sns\n",
        "import pandas as pd\n",
        "import numpy as np\n",
        "\n",
        "def check_date(date_string, month, day):\n",
        "  if date_string[4:7] == month and date_string[8:10] == day:\n",
        "    return True\n",
        "  return False\n",
        "\n",
        "def get_date_sentiment(month, day):\n",
        "  date_sentiment = {\"positive\": 0, \"negative\":0, \"neutral\": 0}\n",
        "\n",
        "  for idx, date in enumerate(twitter['date']):\n",
        "    if check_date(date, month, day):\n",
        "      match twitter['outer_sentiment'][idx]:\n",
        "        case 4:\n",
        "          date_sentiment['positive'] += 1\n",
        "        case 2:\n",
        "          date_sentiment['neutral'] += 1\n",
        "        case 0:\n",
        "          date_sentiment['negative'] += 1\n",
        "\n",
        "  return date_sentiment\n",
        "\n",
        "#via https://stackoverflow.com/a/60270421\n",
        "def bar_plot(ax, data, colors=None, total_width=0.8, single_width=1, legend=True):\n",
        "    \"\"\"Draws a bar plot with multiple bars per data point.\n",
        "\n",
        "    Parameters\n",
        "    ----------\n",
        "    ax : matplotlib.pyplot.axis\n",
        "        The axis we want to draw our plot on.\n",
        "\n",
        "    data: dictionary\n",
        "        A dictionary containing the data we want to plot. Keys are the names of the\n",
        "        data, the items is a list of the values.\n",
        "\n",
        "        Example:\n",
        "        data = {\n",
        "            \"x\":[1,2,3],\n",
        "            \"y\":[1,2,3],\n",
        "            \"z\":[1,2,3],\n",
        "        }\n",
        "\n",
        "    colors : array-like, optional\n",
        "        A list of colors which are used for the bars. If None, the colors\n",
        "        will be the standard matplotlib color cyle. (default: None)\n",
        "\n",
        "    total_width : float, optional, default: 0.8\n",
        "        The width of a bar group. 0.8 means that 80% of the x-axis is covered\n",
        "        by bars and 20% will be spaces between the bars.\n",
        "\n",
        "    single_width: float, optional, default: 1\n",
        "        The relative width of a single bar within a group. 1 means the bars\n",
        "        will touch eachother within a group, values less than 1 will make\n",
        "        these bars thinner.\n",
        "\n",
        "    legend: bool, optional, default: True\n",
        "        If this is set to true, a legend will be added to the axis.\n",
        "    \"\"\"\n",
        "\n",
        "    # Check if colors where provided, otherwhise use the default color cycle\n",
        "    if colors is None:\n",
        "        colors = plt.rcParams['axes.prop_cycle'].by_key()['color']\n",
        "\n",
        "    # Number of bars per group\n",
        "    n_bars = len(data)\n",
        "\n",
        "    # The width of a single bar\n",
        "    bar_width = total_width / n_bars\n",
        "\n",
        "    # List containing handles for the drawn bars, used for the legend\n",
        "    bars = []\n",
        "\n",
        "    # Iterate over all data\n",
        "    for i, (name, values) in enumerate(data.items()):\n",
        "        # The offset in x direction of that bar\n",
        "        x_offset = (i - n_bars / 2) * bar_width + bar_width / 2\n",
        "\n",
        "        # Draw a bar for every value of that type\n",
        "        for x, y in enumerate(values):\n",
        "            bar = ax.bar(x + x_offset, y, width=bar_width * single_width, color=colors[i % len(colors)])\n",
        "\n",
        "        # Add a handle to the last drawn bar, which we'll need for the legend\n",
        "        bars.append(bar[0])\n",
        "\n",
        "    # Draw legend if we need\n",
        "    if legend:\n",
        "        ax.legend(bars, data.keys())\n",
        "\n",
        "def plot_date_sentiments(notable_dates):\n",
        "  date_sentiments = []\n",
        "  date_labels = []\n",
        "\n",
        "  for date in notable_dates:\n",
        "    date_name = date[0] + \" \" + date[1]\n",
        "    date_sentiments.append(get_date_sentiment(date[0], date[1]))\n",
        "    date_labels.append(date_name)\n",
        "\n",
        "  negative = []\n",
        "  neutral = []\n",
        "  positive = []\n",
        "\n",
        "  for i, _ in enumerate(date_labels):\n",
        "    negative.append(date_sentiments[i]['negative'])\n",
        "    neutral.append(date_sentiments[i]['neutral'])\n",
        "    positive.append(date_sentiments[i]['positive'])\n",
        "\n",
        "  data = {\n",
        "      \"negative\": negative,\n",
        "      \"neutral\": neutral,\n",
        "      \"positive\": positive,\n",
        "  }\n",
        "\n",
        "  fig, ax = plt.subplots()\n",
        "  bar_plot(ax, data, colors=[\"red\", \"grey\", \"green\"])\n",
        "  plt.xticks(range(len(date_labels)), date_labels)\n",
        "  plt.show()\n"
      ]
    },
    {
      "cell_type": "code",
      "execution_count": 3,
      "metadata": {
        "colab": {
          "base_uri": "https://localhost:8080/",
          "height": 450
        },
        "id": "xv-VM6UfCHTR",
        "outputId": "f83aa644-baab-4ed1-e421-2cc4bbdfc728"
      },
      "outputs": [
        {
          "data": {
            "image/png": "[encoded data removed]",
            "text/plain": [
              "<Figure size 640x480 with 1 Axes>"
            ]
          },
          "metadata": {},
          "output_type": "display_data"
        }
      ],
      "source": [
        "notable_dates = [[\"Apr\", \"05\"], [\"Apr\", \"06\"], [\"Apr\", \"07\"], [\"May\", \"14\"], [\"May\", \"25\"], [\"Jun\", \"01\"], [\"Jun\", \"18\"]]\n",
        "\n",
        "plot_date_sentiments(notable_dates)"
      ]
    }
  ],
  "metadata": {
    "colab": {
      "provenance": []
    },
    "kernelspec": {
      "display_name": "Python (env_twitter)",
      "language": "python",
      "name": "env_twitter"
    },
    "language_info": {
      "codemirror_mode": {
        "name": "ipython",
        "version": 3
      },
      "file_extension": ".py",
      "mimetype": "text/x-python",
      "name": "python",
      "nbconvert_exporter": "python",
      "pygments_lexer": "ipython3",
      "version": "3.11.7"
    }
  },
  "nbformat": 4,
  "nbformat_minor": 0
}
